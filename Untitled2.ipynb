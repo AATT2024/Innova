{
  "nbformat": 4,
  "nbformat_minor": 0,
  "metadata": {
    "colab": {
      "provenance": [],
      "authorship_tag": "ABX9TyO+J5qHTzl+/u+8mdA6Tunz",
      "include_colab_link": true
    },
    "kernelspec": {
      "name": "python3",
      "display_name": "Python 3"
    },
    "language_info": {
      "name": "python"
    }
  },
  "cells": [
    {
      "cell_type": "markdown",
      "metadata": {
        "id": "view-in-github",
        "colab_type": "text"
      },
      "source": [
        "<a href=\"https://colab.research.google.com/github/AATT2024/Innova/blob/Ejemplo2clase0/Untitled2.ipynb\" target=\"_parent\"><img src=\"https://colab.research.google.com/assets/colab-badge.svg\" alt=\"Open In Colab\"/></a>"
      ]
    },
    {
      "cell_type": "code",
      "execution_count": null,
      "metadata": {
        "colab": {
          "base_uri": "https://localhost:8080/"
        },
        "id": "vGs2X-EA_yu5",
        "outputId": "8a3a109d-766a-49a0-bc7d-69386d09e551"
      },
      "outputs": [
        {
          "output_type": "stream",
          "name": "stdout",
          "text": [
            "1\n"
          ]
        }
      ],
      "source": [
        "#print (10)\n",
        "#print (7,5)\n",
        "#print(\"\"\"holanda \\\n",
        "#que talca\"\"\")\n",
        "#print(\"1holanda : \", 40, \" - \", 30 + 40)\n",
        "# parapmetros de fin y división\n",
        "#print(\"3holanda :\", end = \"\")\n",
        "#print(\"que talca\")\n",
        "#print(\"4holanda :\", end = \",\")\n",
        "#print(\"que talca\")\n",
        "#print(\"5holanda :\", \"que tal\", sep = \"\")\n",
        "#print(\"6holanda :\", \"que tal\", sep = \",\")\n",
        "# ufunción d eimput\n",
        "#name = input(\"Entra tu nombre : \")\n",
        "#print(\"hola :\", name)\n",
        "#edad1 = (input(\"Entra tu edad : \"))\n",
        "#print(\"ingreso de tipo de dato : \", type(edad1))\n",
        "#if edad1.isdigit() == True :\n",
        "#  edad2=int(edad1)\n",
        "#else:\n",
        "#  print(\"debe ser numerico\")\n",
        "#edad3 = int(input(\"Entra la edad de tu pichona : \"))\n",
        "#diferencia= edad3 - edad2\n",
        "#print(\"la diferencia es :\", diferencia)\n",
        "#import keyword\n",
        "#print(\"Python Lista de palabras recervadas\")\n",
        "#print(keyword.kwlist)\n",
        "#\"hola\"*3\n",
        "#100/4\n",
        "#10//3\n",
        "#res=2+3*4\n",
        "#print(res)\n",
        "#type(100.0)\n",
        "#i=8\n",
        "#i*=3\n",
        "#print(i)\n",
        "#change=4700\n",
        "#coin=change//500\n",
        "#print(coin)\n",
        "#a=3\n",
        "#b=3.0\n",
        "#print(a is b)\n",
        "#num=74\n",
        "#num2=num%2\n",
        "#print (num2)\n",
        "#res=5+2*3**2\n",
        "#print (res)\n",
        "#a=10\n",
        "#b=15\n",
        "#c=a%2\n",
        "#d=b%2\n",
        "#print (c)\n",
        "#print(d)\n",
        "#for i in range (1, 11, 2): print(i)\n",
        "#s=0\n",
        "#for i in range (1, 11):\n",
        "# s+=i\n",
        "#print(s)\n",
        "#for letra in \"python\": print(letra, sep=\"-\")\n",
        "#for letra in \"python\": print(letra, sep=\"-\", end=\"\")\n",
        "#for letra in \"python\": print(letra, \"-\", end=\"\")\n",
        "#for letra in \"python\": print(letra, end=\"-\")\n",
        "#print(\"python\", end=\"-\")\n",
        "#i=0\n",
        "#while i<3:\n",
        "#  print(i)\n",
        "#  i+=1\n",
        "#else:\n",
        "#  print(\"fin\")\n",
        "#for letra in \"python\":\n",
        "#  if letra in \"aeiou\":\n",
        "#    break\n",
        "#  print(letra)\n",
        "#frutas=[\"platano\", \"manzana\", \"naranja\", \"kiwi\"]\n",
        "#frutas.pop(0)\n",
        "#print(frutas)\n",
        "#alist=[10, 20, 30, 40, 50, 60, 70, 80]\n",
        "#alist[2:5]\n",
        "#persona={\n",
        "#    \"nombre\": \"david\",\n",
        "#    \"edad\": 26,\n",
        "#    \"peso\": 89\n",
        "#}\n",
        "#del persona[\"peso\"]\n",
        "#print(persona)\n",
        "#5 in range(5)\n",
        "#\"pera\" in [\"manda\", \"pera\", \"uva\"]\n",
        "#texto=\"Innovacion\"\n",
        "#print(texto.count(\"i\"))\n",
        "get_root:(A=1, b=2, -8)\n",
        "\n",
        "\n"
      ]
    }
  ]
}